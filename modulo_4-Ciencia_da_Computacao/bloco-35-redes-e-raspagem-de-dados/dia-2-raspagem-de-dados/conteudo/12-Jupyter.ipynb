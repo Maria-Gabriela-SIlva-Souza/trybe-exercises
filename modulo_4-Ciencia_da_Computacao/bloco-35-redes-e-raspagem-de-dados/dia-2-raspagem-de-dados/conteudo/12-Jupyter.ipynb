{
 "cells": [
  {
   "cell_type": "code",
   "execution_count": 4,
   "metadata": {},
   "outputs": [],
   "source": [
    "import random"
   ]
  },
  {
   "cell_type": "code",
   "execution_count": 11,
   "metadata": {},
   "outputs": [],
   "source": [
    "instrutores = ['Rodrigo', 'Carlos', 'Isaac', 'Felps']\n",
    "idade = random.sample(range(23, 36), 4)"
   ]
  },
  {
   "cell_type": "code",
   "execution_count": 12,
   "metadata": {},
   "outputs": [
    {
     "name": "stdout",
     "output_type": "stream",
     "text": [
      "['Rodrigo', 'Carlos', 'Isaac', 'Felps']\n",
      "[26, 32, 35, 25]\n"
     ]
    }
   ],
   "source": [
    "print(instrutores)\n",
    "print(idade)"
   ]
  },
  {
   "cell_type": "code",
   "execution_count": 14,
   "metadata": {},
   "outputs": [],
   "source": [
    "nome_idade = {}\n",
    "\n",
    "for pos in range(len(instrutores)):\n",
    "    nome_idade[instrutores[pos]] = idade[pos]"
   ]
  }
 ],
 "metadata": {
  "kernelspec": {
   "display_name": "Python 3.9.1 ('.venv': venv)",
   "language": "python",
   "name": "python3"
  },
  "language_info": {
   "codemirror_mode": {
    "name": "ipython",
    "version": 3
   },
   "file_extension": ".py",
   "mimetype": "text/x-python",
   "name": "python",
   "nbconvert_exporter": "python",
   "pygments_lexer": "ipython3",
   "version": "3.9.1"
  },
  "orig_nbformat": 4,
  "vscode": {
   "interpreter": {
    "hash": "ca634c5857cfbcae77ab7c105e2f6528f1c0a10ac787f144365370cc913ceed2"
   }
  }
 },
 "nbformat": 4,
 "nbformat_minor": 2
}
